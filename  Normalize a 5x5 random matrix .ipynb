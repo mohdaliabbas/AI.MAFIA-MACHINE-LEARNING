{
 "cells": [
  {
   "cell_type": "code",
   "execution_count": 30,
   "metadata": {},
   "outputs": [],
   "source": [
    "import numpy as np"
   ]
  },
  {
   "cell_type": "code",
   "execution_count": 34,
   "metadata": {},
   "outputs": [],
   "source": [
    "x = np.random.random(size=(5, 5))\n",
    "x_mean = np.mean(x)\n",
    "x_var = np.var(x)\n",
    "x_norm = (x - x_mean) / np.sqrt(x_var)\n"
   ]
  },
  {
   "cell_type": "code",
   "execution_count": 35,
   "metadata": {},
   "outputs": [
    {
     "name": "stdout",
     "output_type": "stream",
     "text": [
      "[[-1.20165659 -0.61972822 -0.56341019 -0.9684483   0.54895768]\n",
      " [ 0.90210031 -1.19958106  0.50073096  1.39678586 -1.28618505]\n",
      " [-0.53350268  1.76713508 -0.11834681 -0.50921408 -0.60226072]\n",
      " [ 1.70624494 -0.72537942 -1.46355101  1.56044943  0.43400779]\n",
      " [ 0.90717338 -0.76933421  0.99686837 -0.72758368  0.56772823]]\n"
     ]
    }
   ],
   "source": [
    "print(x_norm)"
   ]
  },
  {
   "cell_type": "code",
   "execution_count": null,
   "metadata": {},
   "outputs": [],
   "source": []
  },
  {
   "cell_type": "code",
   "execution_count": null,
   "metadata": {},
   "outputs": [],
   "source": []
  },
  {
   "cell_type": "code",
   "execution_count": null,
   "metadata": {},
   "outputs": [],
   "source": []
  }
 ],
 "metadata": {
  "kernelspec": {
   "display_name": "Python 3",
   "language": "python",
   "name": "python3"
  },
  "language_info": {
   "codemirror_mode": {
    "name": "ipython",
    "version": 3
   },
   "file_extension": ".py",
   "mimetype": "text/x-python",
   "name": "python",
   "nbconvert_exporter": "python",
   "pygments_lexer": "ipython3",
   "version": "3.8.1"
  }
 },
 "nbformat": 4,
 "nbformat_minor": 4
}
