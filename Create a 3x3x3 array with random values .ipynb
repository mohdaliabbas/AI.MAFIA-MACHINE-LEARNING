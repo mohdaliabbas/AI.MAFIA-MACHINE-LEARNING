{
 "cells": [
  {
   "cell_type": "code",
   "execution_count": 1,
   "metadata": {},
   "outputs": [],
   "source": [
    "import numpy as np"
   ]
  },
  {
   "cell_type": "code",
   "execution_count": 5,
   "metadata": {},
   "outputs": [
    {
     "name": "stdout",
     "output_type": "stream",
     "text": [
      "[[[0.60898225 0.58494413 0.03913407]\n",
      "  [0.16261954 0.558954   0.89643474]\n",
      "  [0.1246428  0.22756795 0.40028192]]\n",
      "\n",
      " [[0.06175902 0.30772572 0.24673956]\n",
      "  [0.80919423 0.48878102 0.49303456]\n",
      "  [0.56003486 0.51497672 0.44309823]]\n",
      "\n",
      " [[0.05387742 0.3707495  0.98952618]\n",
      "  [0.16198462 0.01563652 0.78050092]\n",
      "  [0.65387477 0.74141824 0.09767382]]]\n"
     ]
    }
   ],
   "source": [
    "print(np.random.random((3,3,3)))"
   ]
  },
  {
   "cell_type": "code",
   "execution_count": null,
   "metadata": {},
   "outputs": [],
   "source": []
  }
 ],
 "metadata": {
  "kernelspec": {
   "display_name": "Python 3",
   "language": "python",
   "name": "python3"
  },
  "language_info": {
   "codemirror_mode": {
    "name": "ipython",
    "version": 3
   },
   "file_extension": ".py",
   "mimetype": "text/x-python",
   "name": "python",
   "nbconvert_exporter": "python",
   "pygments_lexer": "ipython3",
   "version": "3.8.1"
  }
 },
 "nbformat": 4,
 "nbformat_minor": 4
}
