{
 "cells": [
  {
   "cell_type": "code",
   "execution_count": 6,
   "metadata": {},
   "outputs": [],
   "source": [
    "import numpy as np"
   ]
  },
  {
   "cell_type": "code",
   "execution_count": 7,
   "metadata": {},
   "outputs": [],
   "source": [
    "a=np.random.random((8,8))"
   ]
  },
  {
   "cell_type": "code",
   "execution_count": 8,
   "metadata": {},
   "outputs": [
    {
     "name": "stdout",
     "output_type": "stream",
     "text": [
      "[[0.96250485 0.47424453 0.95742993 0.53889746 0.44224852 0.4169277\n",
      "  0.32895736 0.94540457]\n",
      " [0.95243595 0.48902259 0.56437412 0.32662295 0.47708668 0.91858162\n",
      "  0.38402731 0.69135525]\n",
      " [0.44169523 0.11954375 0.63737105 0.71027423 0.08836522 0.73153341\n",
      "  0.3532026  0.85711712]\n",
      " [0.6490536  0.03707094 0.48975584 0.61371003 0.33940808 0.28136717\n",
      "  0.25472378 0.58939169]\n",
      " [0.75255147 0.1703287  0.02717402 0.85069652 0.5014172  0.12639078\n",
      "  0.22041003 0.66397189]\n",
      " [0.98762208 0.87424566 0.98379275 0.89604507 0.59692455 0.45734129\n",
      "  0.02131798 0.12772875]\n",
      " [0.44081105 0.76508586 0.50792071 0.95184615 0.57098042 0.27600071\n",
      "  0.96534612 0.28191188]\n",
      " [0.27796257 0.79368126 0.79046954 0.25603257 0.66093248 0.82769603\n",
      "  0.76965289 0.99526118]]\n"
     ]
    }
   ],
   "source": [
    "print(a)"
   ]
  },
  {
   "cell_type": "code",
   "execution_count": 9,
   "metadata": {},
   "outputs": [],
   "source": [
    "a[1::2,::2] = 1\n",
    "a[::2,1::2] = 1"
   ]
  },
  {
   "cell_type": "code",
   "execution_count": 10,
   "metadata": {},
   "outputs": [
    {
     "name": "stdout",
     "output_type": "stream",
     "text": [
      "[[0.96250485 1.         0.95742993 1.         0.44224852 1.\n",
      "  0.32895736 1.        ]\n",
      " [1.         0.48902259 1.         0.32662295 1.         0.91858162\n",
      "  1.         0.69135525]\n",
      " [0.44169523 1.         0.63737105 1.         0.08836522 1.\n",
      "  0.3532026  1.        ]\n",
      " [1.         0.03707094 1.         0.61371003 1.         0.28136717\n",
      "  1.         0.58939169]\n",
      " [0.75255147 1.         0.02717402 1.         0.5014172  1.\n",
      "  0.22041003 1.        ]\n",
      " [1.         0.87424566 1.         0.89604507 1.         0.45734129\n",
      "  1.         0.12772875]\n",
      " [0.44081105 1.         0.50792071 1.         0.57098042 1.\n",
      "  0.96534612 1.        ]\n",
      " [1.         0.79368126 1.         0.25603257 1.         0.82769603\n",
      "  1.         0.99526118]]\n"
     ]
    }
   ],
   "source": [
    "print((a))"
   ]
  },
  {
   "cell_type": "code",
   "execution_count": null,
   "metadata": {},
   "outputs": [],
   "source": []
  },
  {
   "cell_type": "code",
   "execution_count": null,
   "metadata": {},
   "outputs": [],
   "source": []
  },
  {
   "cell_type": "code",
   "execution_count": null,
   "metadata": {},
   "outputs": [],
   "source": []
  }
 ],
 "metadata": {
  "kernelspec": {
   "display_name": "Python 3",
   "language": "python",
   "name": "python3"
  },
  "language_info": {
   "codemirror_mode": {
    "name": "ipython",
    "version": 3
   },
   "file_extension": ".py",
   "mimetype": "text/x-python",
   "name": "python",
   "nbconvert_exporter": "python",
   "pygments_lexer": "ipython3",
   "version": "3.8.1"
  }
 },
 "nbformat": 4,
 "nbformat_minor": 4
}
