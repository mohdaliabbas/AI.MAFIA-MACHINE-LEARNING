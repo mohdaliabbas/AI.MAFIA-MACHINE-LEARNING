{
 "cells": [
  {
   "cell_type": "code",
   "execution_count": 16,
   "metadata": {},
   "outputs": [],
   "source": [
    "import numpy as np\n",
    "import pandas as pd\n",
    "import matplotlib.pyplot as plt"
   ]
  },
  {
   "cell_type": "code",
   "execution_count": 17,
   "metadata": {},
   "outputs": [],
   "source": [
    "dfx=pd.read_csv('/jupyter/Logistic_X_Train.csv')\n",
    "dfy=pd.read_csv('/jupyter/Logistic_Y_Train.csv')\n",
    "df_test=pd.read_csv('/jupyter/Logistic_X_Test.csv')"
   ]
  },
  {
   "cell_type": "code",
   "execution_count": 18,
   "metadata": {},
   "outputs": [
    {
     "name": "stdout",
     "output_type": "stream",
     "text": [
      "(3000, 3) (3000,)\n"
     ]
    }
   ],
   "source": [
    "x_train=dfx[['f1','f2','f3']]\n",
    "x_train=x_train.values\n",
    "y_train=dfy.values.reshape((-1,))\n",
    "print(x_train.shape,y_train.shape)"
   ]
  },
  {
   "cell_type": "code",
   "execution_count": 19,
   "metadata": {},
   "outputs": [],
   "source": [
    "def hypothesis(x,w,b):\n",
    "    hx=np.dot(x,w)+b\n",
    "    return sigmoid(hx)"
   ]
  },
  {
   "cell_type": "code",
   "execution_count": 20,
   "metadata": {},
   "outputs": [],
   "source": [
    "def sigmoid(x):\n",
    "     return 1.0/(1.0+np.exp(-1.0*x))"
   ]
  },
  {
   "cell_type": "code",
   "execution_count": 21,
   "metadata": {},
   "outputs": [],
   "source": [
    "def error(x,y,w,b):\n",
    "    err=0.0\n",
    "    for i in range(x.shape[0]):\n",
    "        hx=hypothesis(x[i],w,b)\n",
    "        err+=y[i]*np.log2(hx)+(1-y[i])*np.log2(1-hx)\n",
    "        return err/x.shape[0]"
   ]
  },
  {
   "cell_type": "code",
   "execution_count": 22,
   "metadata": {},
   "outputs": [],
   "source": [
    "def gradient(x,y,w,b):\n",
    "    grad_w=np.zeros(x.shape[1])\n",
    "    grad_b=0.0\n",
    "    for i in range(x.shape[0]):\n",
    "        hx=hypothesis(x[i],w,b)\n",
    "        grad_w+=(y[i]-hx)*x[i]\n",
    "        grad_b+=(y[i]-hx)\n",
    "        return [grad_w/x.shape[0],grad_b/x.shape[0]]"
   ]
  },
  {
   "cell_type": "code",
   "execution_count": 46,
   "metadata": {},
   "outputs": [],
   "source": [
    "def gradientAscent(x,y,lrate=1):\n",
    "        err_list=[]\n",
    "        w=np.random.random((x.shape[1],))\n",
    "    \n",
    "        b=np.random.random()\n",
    "        itr=0\n",
    "        max_itr=100\n",
    "        while(itr<=max_itr):\n",
    "            [grad_w,grad_b]=gradient(x,y,w,b)\n",
    "            e=error(x,y,w,b)\n",
    "            w+=lrate*grad_w\n",
    "            b+=lrate*grad_b\n",
    "            err_list.append(e)\n",
    "            itr+=1\n",
    "        return w,b,err_list"
   ]
  },
  {
   "cell_type": "code",
   "execution_count": 52,
   "metadata": {},
   "outputs": [],
   "source": [
    "def predict(x,w,b):    \n",
    "        y_pred = []\n",
    "        for i in range(x.shape[0]):\n",
    "            confidence=hypothesis(x[i],w,b)\n",
    "            if confidence<0.5:\n",
    "                p=0\n",
    "            else:\n",
    "                p=1\n",
    "            y_pred.append(p)\n",
    "        y_pred = np.array(y_pred)\n",
    "        return y_pred"
   ]
  },
  {
   "cell_type": "code",
   "execution_count": 53,
   "metadata": {},
   "outputs": [],
   "source": [
    "w,b,err_list=gradientAscent(x_train,y_train)"
   ]
  },
  {
   "cell_type": "code",
   "execution_count": 54,
   "metadata": {},
   "outputs": [
    {
     "data": {
      "text/plain": [
       "[<matplotlib.lines.Line2D at 0x48d49e8>]"
      ]
     },
     "execution_count": 54,
     "metadata": {},
     "output_type": "execute_result"
    },
    {
     "data": {
      "image/png": "[encoded data removed]",
      "text/plain": [
       "<Figure size 432x288 with 1 Axes>"
      ]
     },
     "metadata": {
      "needs_background": "light"
     },
     "output_type": "display_data"
    }
   ],
   "source": [
    "plt.plot(err_list)\n"
   ]
  },
  {
   "cell_type": "code",
   "execution_count": 55,
   "metadata": {},
   "outputs": [],
   "source": [
    "df_test=pd.read_csv('/jupyter/Logistic_X_Test.csv')\n",
    "df_test=df_test[['f1','f2','f3']].values\n",
    "y_prediction=predict(df_test,w,b)"
   ]
  },
  {
   "cell_type": "code",
   "execution_count": 56,
   "metadata": {},
   "outputs": [
    {
     "name": "stdout",
     "output_type": "stream",
     "text": [
      "[0 1 1 1 0 0 1 0 1 1 1 0 0 1 1 1 1 1 1 1 1 1 0 1 0 0 0 1 1 1 0 0 0 1 1 1 0\n",
      " 1 1 1 0 1 1 1 0 0 1 1 1 1 1 1 1 0 1 1 1 1 0 1 1 0 1 1 0 1 1 1 1 1 1 1 1 1\n",
      " 0 0 1 0 1 0 1 1 1 1 1 1 0 0 0 1 1 1 0 1 1 1 0 0 0 1 1 1 0 1 1 1 1 0 0 1 1\n",
      " 1 1 1 1 0 1 1 0 1 1 1 1 0 1 1 1 1 1 1 0 0 1 1 0 1 1 1 0 0 1 0 1 0 1 1 0 0\n",
      " 1 1 0 0 1 1 1 0 1 1 1 1 1 1 1 1 1 1 1 0 0 0 0 0 0 1 1 1 1 1 1 1 1 0 0 1 1\n",
      " 0 1 1 0 1 1 1 1 1 1 1 1 1 0 1 1 0 1 1 0 0 1 1 1 1 1 1 1 1 1 1 0 1 0 1 1 0\n",
      " 1 1 1 1 1 1 1 1 1 1 1 1 1 1 1 1 1 0 0 1 1 1 1 1 1 1 1 1 1 0 1 1 1 1 0 0 1\n",
      " 1 0 0 1 1 0 1 1 1 1 1 0 0 0 1 0 1 1 1 1 1 0 0 1 1 1 1 1 1 1 1 0 0 1 0 1 0\n",
      " 0 1 1 0 0 1 0 0 1 0 0 1 1 1 1 0 1 1 1 1 1 0 1 0 0 0 1 1 1 1 1 1 0 1 0 1 1\n",
      " 1 0 1 1 1 0 1 0 1 1 1 1 1 1 1 0 1 0 0 0 1 0 1 1 1 1 1 0 1 1 1 1 0 1 1 1 1\n",
      " 0 1 0 1 1 1 1 0 1 1 1 0 1 1 0 1 0 1 0 1 1 1 1 1 1 1 0 1 1 1 1 1 0 1 1 1 1\n",
      " 1 0 0 0 1 1 0 1 0 1 1 0 1 1 1 1 1 1 1 1 0 1 0 0 1 1 0 1 0 1 1 0 1 1 1 1 1\n",
      " 1 1 1 1 1 1 1 0 0 0 1 1 1 0 1 1 0 0 0 1 1 1 0 1 1 1 1 0 1 1 0 0 1 0 0 0 1\n",
      " 1 1 1 0 1 0 1 1 0 1 1 1 1 0 0 1 1 0 1 1 1 1 1 1 0 1 0 0 1 1 1 1 1 1 1 1 1\n",
      " 0 1 0 1 1 0 1 0 0 1 1 0 0 1 1 1 1 0 1 1 1 1 1 1 1 0 1 1 1 1 0 1 1 1 0 1 1\n",
      " 1 0 1 0 1 1 1 1 0 1 1 1 0 1 1 1 1 0 1 1 1 0 1 1 1 1 1 1 1 1 1 0 1 1 1 1 1\n",
      " 1 0 1 1 1 1 0 1 1 1 1 0 0 1 1 0 1 1 1 1 0 1 1 1 0 1 1 1 1 1 1 1 0 0 1 1 1\n",
      " 1 1 0 0 0 1 1 0 1 1 0 1 1 1 1 0 1 0 1 1 1 1 1 1 1 1 1 0 0 1 1 1 0 0 1 0 0\n",
      " 1 0 1 0 1 1 1 1 0 0 1 1 1 1 1 0 1 1 1 0 1 0 1 1 1 1 1 1 0 1 1 0 1 1 0 0 1\n",
      " 0 0 1 1 1 1 1 1 0 1 1 0 1 0 0 1 1 1 0 1 1 1 1 0 0 1 1 1 0 0 1 1 1 1 1 0 1\n",
      " 1 1 1 0 1 1 1 0 0 1 0 1 1 0 1 1 1 1 1 1 0 1 1 1 1 1 1 1 1 0 1 1 1 0 1 1 1\n",
      " 1 0 0 1 0 1 1 0 1 0 0 1 0 1 1 1 1 0 1 1 1 1 1 0 0 0 1 1 1 1 0 1 1 1 1 0 0\n",
      " 1 1 0 1 0 1 0 1 1 1 0 1 1 0 1 1 0 1 0 1 1 1 1 1 1 0 0 1 1 1 1 1 0 0 1 1 1\n",
      " 1 0 1 1 1 0 1 1 1 0 1 0 0 1 0 1 1 1 1 0 1 1 0 0 1 0 1 0 0 0 1 1 1 1 1 1 1\n",
      " 0 1 1 1 1 0 0 0 1 1 1 1 0 1 0 1 1 1 1 1 0 1 1 0 1 0 1 0 0 1 1 1 1 0 0 0 1\n",
      " 1 1 1 1 1 1 1 1 1 1 0 1 0 1 1 1 0 1 1 0 1 1 1 1 1 1 1 1 0 0 0 1 1 0 1 1 1\n",
      " 0 0 1 1 1 1 0 1 1 0 1 0 1 0 1 1 1 1 1 1 0 0 1 0 0 1 0 0 1 1 1 0 0 1 1 0 1\n",
      " 1]\n"
     ]
    }
   ],
   "source": [
    "print(y_prediction)"
   ]
  },
  {
   "cell_type": "code",
   "execution_count": null,
   "metadata": {},
   "outputs": [],
   "source": []
  },
  {
   "cell_type": "code",
   "execution_count": null,
   "metadata": {},
   "outputs": [],
   "source": []
  }
 ],
 "metadata": {
  "kernelspec": {
   "display_name": "Python 3",
   "language": "python",
   "name": "python3"
  },
  "language_info": {
   "codemirror_mode": {
    "name": "ipython",
    "version": 3
   },
   "file_extension": ".py",
   "mimetype": "text/x-python",
   "name": "python",
   "nbconvert_exporter": "python",
   "pygments_lexer": "ipython3",
   "version": "3.8.1"
  }
 },
 "nbformat": 4,
 "nbformat_minor": 4
}
